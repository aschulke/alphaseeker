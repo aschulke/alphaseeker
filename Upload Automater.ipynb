{
 "cells": [
  {
   "cell_type": "code",
   "execution_count": 10,
   "metadata": {},
   "outputs": [
    {
     "name": "stdout",
     "output_type": "stream",
     "text": [
      "00206RDH2,,FRS,FRSBOND,DELIVER,N,7/13/2017,7/14/2017,0,0,1785000,0,102.2799,1825696.22,0,0,0,1,,0,0,0,ZCONV,STATE S1,FED FUND,,XFER TO FRSBDTMP,,,,,,,,,MATURITY,Tmp,M1919,DTC     ,,,TRANSFER,,,,,,ZCONV,,SC WORST,SC WORST,SC WORST,SC WORST,,NNNN,,,,,,,,,,,7/13/2017,7/13/2017,7/13/2017,7/13/2017,1,1,1,1,,7/14/2017,7/14/2017,7/14/2017,7/14/2017,1825696.215,1825696.215,1825696.215,1825696.215,1825696.215,1825696.215,1825696.215,1825696.215,1825696.215,1825696.215,1825696.215,1825696.215,Y,Y,Y,Y,MATURITY,MATURITY,MATURITY,MATURITY,MATURITY,MATURITY,MATURITY\n",
      "is this good to upload?\n",
      "Yes\n",
      "Done\n"
     ]
    }
   ],
   "source": [
    "import csv\n",
    "import openpyxl\n",
    "import shutil, time, pandas as pd\n",
    "wb = openpyxl.Workbook()\n",
    "ws = wb.active\n",
    "\n",
    "fstring = ('G:\\\\Camra\\\\Uploads\\\\')\n",
    "\n",
    "\n",
    "\n",
    "\n",
    "#copy filepath below!!!!\n",
    "#T:\\Operations\\Personal\\Carter E\\Python Docs\\CATRDveriallresPB.csv\n",
    "strings = ('Tsf_FRSBOND_07132017.csv')\n",
    "\n",
    "\n",
    "\n",
    "\n",
    "f = open(fstring + strings)\n",
    "\n",
    "reader = csv.reader(f, delimiter=':')\n",
    "for row in reader:\n",
    "    ws.append(row)\n",
    "f.close()\n",
    "\n",
    "sheet = wb.active\n",
    "sheet.title = 'Sheet1'\n",
    "\n",
    "sheet = wb.get_sheet_by_name('Sheet1')\n",
    "print(sheet.cell(row=1, column=1).value)\n",
    "\n",
    "wb.save('T:\\Operations\\Personal\\Carter E\\Python Docs\\recent_upload.xlsx')\n",
    "\n",
    "print (\"is this good to upload?\")\n",
    "answer = input()\n",
    "if answer == 'Yes' or 'yes':\n",
    "    shutil.move(fstring + strings , 'G:\\\\Camra\\\\Uploads\\\\Production\\\\SPGTD_py' + strings)\n",
    "    print('Done')\n",
    "else:\n",
    "    print(\"upload it some other way\")"
   ]
  },
  {
   "cell_type": "markdown",
   "metadata": {},
   "source": [
    "The below is the raw testing code, above is code pointed to G:CAMRA:UPLOADS"
   ]
  },
  {
   "cell_type": "code",
   "execution_count": 8,
   "metadata": {},
   "outputs": [
    {
     "name": "stdout",
     "output_type": "stream",
     "text": [
      "92343VDQ4,,KYRETSYS,KRSINS,RECEIVE,N,07/11/2017,07/11/2017,0,1,76000,0,100.4874,76370.42,0,0,0,1,,0,0,0,ZCONV,BNYM2,FED FUND,,144A EXCHANGE OFFER,,,,,,,,,MATURITY,,,DTC,,,TRANSFER,,,,,,ZCONV,,SC WORST,SC WORST,SC WORST,SC WORST,,NNNN,,,,,,,,,144A,1071,07/11/2017,07/11/2017,07/11/2017,07/11/2017,1,1,1,1,,07/11/2017,07/11/2017,07/11/2017,07/11/2017,76370.42,76370.42,76370.42,76370.42,76370.42,76370.42,76370.42,76370.42,76370.42,76370.42,76370.42,76370.42,N,N,N,N,MATURITY,MATURITY,MATURITY,MATURITY,MATURITY,MATURITY,MATURITY\n",
      "is this good to upload?\n",
      "yes\n",
      "Done\n"
     ]
    }
   ],
   "source": [
    "import csv\n",
    "import openpyxl\n",
    "import shutil, time, pandas as pd\n",
    "wb = openpyxl.Workbook()\n",
    "ws = wb.active\n",
    "\n",
    "fstring = ('T:\\\\Operations\\\\Personal\\\\Carter E\\\\Python Docs\\\\')\n",
    "\n",
    "\n",
    "#copy filepath below!!!!\n",
    "#T:\\Operations\\Personal\\Carter E\\Python Docs\\CATRDveriallresPB.csv\n",
    "\n",
    "strings = ('CATRDveriallresPB.csv')\n",
    "\n",
    "f = open(fstring + strings)\n",
    "\n",
    "reader = csv.reader(f, delimiter=':')\n",
    "for row in reader:\n",
    "    ws.append(row)\n",
    "f.close()\n",
    "\n",
    "sheet = wb.active\n",
    "sheet.title = 'Sheet1'\n",
    "\n",
    "sheet = wb.get_sheet_by_name('Sheet1')\n",
    "print(sheet.cell(row=1, column=1).value)\n",
    "\n",
    "wb.save('T:\\Operations\\Personal\\Carter E\\Python Docs\\styled.xlsx')\n",
    "\n",
    "print (\"is this good to upload?\")\n",
    "answer = input()\n",
    "if answer == 'Yes' or 'yes':\n",
    "    shutil.move(fstring + strings , 'T:\\\\Operations\\\\Personal\\\\Carter E\\\\Python Docs\\\\staging_test\\\\SPGTD_py' + strings)\n",
    "    print('Done')\n",
    "else:\n",
    "    print(\"upload it some other way\")"
   ]
  },
  {
   "cell_type": "code",
   "execution_count": null,
   "metadata": {
    "collapsed": true
   },
   "outputs": [],
   "source": []
  }
 ],
 "metadata": {
  "kernelspec": {
   "display_name": "Python 3",
   "language": "python",
   "name": "python3"
  },
  "language_info": {
   "codemirror_mode": {
    "name": "ipython",
    "version": 3
   },
   "file_extension": ".py",
   "mimetype": "text/x-python",
   "name": "python",
   "nbconvert_exporter": "python",
   "pygments_lexer": "ipython3",
   "version": "3.6.1"
  }
 },
 "nbformat": 4,
 "nbformat_minor": 2
}
