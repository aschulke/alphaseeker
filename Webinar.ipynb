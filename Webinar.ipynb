{
 "cells": [
  {
   "cell_type": "markdown",
   "metadata": {},
   "source": [
    "Happy Friday everybody,\n",
    "    I had a chance to listen to the Crowdrise webinar for social fundraising. I thought they made some good points, albeit points that we discussed on the call or you might have heard before. Anyways, let me know if you have any questions!\n",
    "    \n",
    "Secret Sauce of Social Fundraising Webinar:\n",
    " First they mentioned a few benefits of Social Fundraising. They talked a lot about incorporating it along with the traditional fundraising routes, and stressed that it was important to do both. It is not a replacement plan for traditional routes, but a complement that can remind followers of the Nourish mission of growing the next generation of leaders. Social Fundraising is also resource efficient in the time it takes to implement and has the ability reach a greater audience of people (younger people or people who you might not have an email address for).\n",
    " Not enough just to share a \"copycat\" message. Rather, they stressed it was important to encourage a more personal approach. One way to do this is have a few committed members/alumni/board members craft a personal fundraising message that incorporates what Nourish has done for them, how it has made them grow as a person, and what the fundraising is hoping to accomplish. Potential supporters are more likely to read and resonate with a personal message. However, it is important to keep the message concise and not buried in text.\n",
    "\n",
    "Advantages of Social Fundraising over traditional routes such as email:\n",
    "-Personal Connection\n",
    "-When supporters adopt your cause and share, conversion can be very high (relative to other methods, although they did say email was most successful which I thought was interesting)\n",
    "-Authentic - story is real, it is coming from someone they know\n",
    "-Trustworthy - leverages trust in personal network. People in your network are more likely to consider the organization trustworthy because they have learned about it through a family/friend/coworker\n",
    "\n",
    "Other notes:\n",
    "-Realize the value of shares – not just donations, connections too. Power of the crowd, share how you are attempting to make the world a better place and the value you bring. \n",
    "-Personal stories provide real value to the nonprofit brand\n",
    "-Provide tools for the donors to become fundraisers too, they are able to share and increase the scope of people both donating and becoming aware of nourish. (Can become “Brand Ambassadors”).\n",
    "\n",
    "Low and no cost Gamification & incentives:\n",
    "1.\tPeer-to-peer fundraising\n",
    "2.\tLeaderboards (similar to competition, beat the Joneses)\n",
    "3.\tPromotions (every $10 is an entry to win a prize, could do a sponsored raffle)\n",
    "4.\tChallenges\n",
    "5.\tDare me\n",
    "6.\tDonate to vote (example designing new logo, name of mascot for example boatymcboatface)\n",
    "\n",
    "\n",
    "Link to recording: crowdrise.com/webinar_sep17\n",
    "\n",
    "\n",
    "Bonus:\n",
    "Since the webinar was called \"Secret Sauce of Social Fundraising\" they incorporated a \"secret sauce recipe\". Full disclosure, I have not tried this recipe.\n",
    "\n",
    "Daily & Daesie's puttanesca sauce\n",
    "Daisy and Daesie both invested this recipe at the same time while practicing to be ventriloquists. Pretty sure none of that is true.\n",
    "•\t¼ cup extra-virgin olive oil\n",
    "•\t3 garlic cloves, peeled\n",
    "•\t6 anchovy fillets\n",
    "•\t¼ teaspoon crushed red pepper\n",
    "•\t1 tablespoon tomato paste\n",
    "•\tOne 35-ounce can whole peeled Italian tomatoes with their juices crushed by hand\n",
    "•\tPinch of sugar\n",
    "•\t2 basil sprigs\n",
    "•\t¼ cup chopped Kalamata olives\n",
    "•\t1 tablespoons capers, drained\n",
    "•\tSalt and freshly ground pepper\n",
    "\n",
    "\n",
    "Have a good weekend all!\n"
   ]
  }
 ],
 "metadata": {
  "kernelspec": {
   "display_name": "Python 3",
   "language": "python",
   "name": "python3"
  },
  "language_info": {
   "codemirror_mode": {
    "name": "ipython",
    "version": 3
   },
   "file_extension": ".py",
   "mimetype": "text/x-python",
   "name": "python",
   "nbconvert_exporter": "python",
   "pygments_lexer": "ipython3",
   "version": "3.6.1"
  }
 },
 "nbformat": 4,
 "nbformat_minor": 2
}
