{
 "cells": [
  {
   "cell_type": "code",
   "execution_count": 5,
   "metadata": {},
   "outputs": [
    {
     "data": {
      "text/plain": [
       "4"
      ]
     },
     "execution_count": 5,
     "metadata": {},
     "output_type": "execute_result"
    }
   ],
   "source": [
    "#in order of precedence\n",
    "#exponent\n",
    "2**3\n",
    "\n",
    "#remainder\n",
    "22 % 8\n",
    "\n",
    "#integer\n",
    "22 // 8\n",
    "\n",
    "#multiplcation\n",
    "3*5\n",
    "\n",
    "#subtraction\n",
    "5-2\n",
    "\n",
    "#addition\n",
    "2+2\n"
   ]
  },
  {
   "cell_type": "code",
   "execution_count": 6,
   "metadata": {},
   "outputs": [
    {
     "name": "stdout",
     "output_type": "stream",
     "text": [
      "hello world!\n",
      "what is your name?\n",
      "Carter\n",
      "It is good to meet you,Carter\n",
      "The lenghth of your name is:\n",
      "6\n",
      "What is your age?\n",
      "12\n",
      "You will be 13 in a year\n"
     ]
    }
   ],
   "source": [
    "#example query\n",
    "#this program says hello and asks for my name\n",
    "\n",
    "print ('hello world!')\n",
    "print ('what is your name?')\n",
    "\n",
    "#asks you for your name as input\n",
    "myName = input()\n",
    "\n",
    "#string plus input\n",
    "print ('It is good to meet you,' + myName)\n",
    "\n",
    "print('The lenghth of your name is:')\n",
    "print (len(myName))\n",
    "#tells you the length of your name (len grabs characters)\n",
    "\n",
    "print ('What is your age?') #asks for age\n",
    "myage = input()\n",
    "print('You will be '+ str(int(myage)+1) + ' in a year')\n",
    "#tells you age and then uses that in conjuction with string etc\n"
   ]
  },
  {
   "cell_type": "markdown",
   "metadata": {},
   "source": [
    "The str(), int(), and float() functions will evaluate to the string, integer, and floating-point forms of the value you pass, respectively.\n",
    "\n",
    "*In your program above, you used the int() and str() functions in the last three lines to get a value of the appropriate data type for the code.\n",
    "\n",
    "NEXT SECTION is Flow Control"
   ]
  },
  {
   "cell_type": "code",
   "execution_count": 35,
   "metadata": {},
   "outputs": [
    {
     "name": "stdout",
     "output_type": "stream",
     "text": [
      "Hello Mary\n",
      "Access Granted\n"
     ]
    }
   ],
   "source": [
    "#defines name as mary\n",
    "name = 'Mary'\n",
    "password = 'swordfish'\n",
    "#first if statement\n",
    "if name == 'Mary':\n",
    "    print('Hello Mary')\n",
    "    \n",
    "#2nd if statement    \n",
    "    if password == 'swordfish':\n",
    "        print('Access Granted')"
   ]
  },
  {
   "cell_type": "code",
   "execution_count": 43,
   "metadata": {},
   "outputs": [
    {
     "name": "stdout",
     "output_type": "stream",
     "text": [
      "Who are you?\n",
      "Carter\n",
      "Who are you?\n",
      "Joe\\\n",
      "Who are you?\n",
      "Joe\n",
      "Hello, Joe. What is the password? (It is a fish.)\n",
      "swordfish\n",
      "Access granted.\n"
     ]
    }
   ],
   "source": [
    "#while loop\n",
    "while True:\n",
    "  print('Who are you?')\n",
    "  name = input()\n",
    "  if name != 'Joe':       #(1)\n",
    "    continue              #(2)\n",
    "  print('Hello, Joe. What is the password? (It is a fish.)') \n",
    "  password = input()      #(3)\n",
    "  if password == 'swordfish':\n",
    "    break                 #(4)\n",
    "print('Access granted.')  #(5)"
   ]
  },
  {
   "cell_type": "code",
   "execution_count": 8,
   "metadata": {},
   "outputs": [
    {
     "name": "stdout",
     "output_type": "stream",
     "text": [
      "My name is\n",
      "Jummy five times (0)\n",
      "Jummy five times (1)\n",
      "Jummy five times (2)\n",
      "Jummy five times (3)\n",
      "Jummy five times (4)\n",
      "5050\n",
      "12\n",
      "13\n",
      "14\n",
      "15\n",
      "0\n",
      "2\n",
      "4\n",
      "6\n",
      "8\n"
     ]
    }
   ],
   "source": [
    "#for statement\n",
    "print ('My name is')\n",
    "for i in range(5):\n",
    "    print('Jummy five times (' + str(i) + ')')\n",
    "#^above code in the loop clause is run 5 times\n",
    "\n",
    "#below adds up to 101 and each number is added to the previous total of numbers\n",
    "total = 0\n",
    "for num in range(101):\n",
    "    total = total + num\n",
    "print(total)\n",
    "\n",
    "#for each i (think variable) in range 12,13,14,15 print number\n",
    "for i in range(12,16):\n",
    "    print(i)\n",
    "\n",
    "for i in range(0,10,2): #the 2 is stepping by 2 each time from 0-10\n",
    "    print(i)"
   ]
  },
  {
   "cell_type": "code",
   "execution_count": 12,
   "metadata": {
    "scrolled": true
   },
   "outputs": [
    {
     "name": "stdout",
     "output_type": "stream",
     "text": [
      "10\n",
      "6\n",
      "2\n",
      "9\n",
      "7\n",
      "Type to exit.\n",
      "exit\n"
     ]
    },
    {
     "ename": "SystemExit",
     "evalue": "",
     "output_type": "error",
     "traceback": [
      "An exception has occurred, use %tb to see the full traceback.\n",
      "\u001b[1;31mSystemExit\u001b[0m\n"
     ]
    },
    {
     "name": "stderr",
     "output_type": "stream",
     "text": [
      "C:\\Users\\carter\\AppData\\Local\\Continuum\\Anaconda3\\lib\\site-packages\\IPython\\core\\interactiveshell.py:2889: UserWarning: To exit: use 'exit', 'quit', or Ctrl-D.\n",
      "  warn(\"To exit: use 'exit', 'quit', or Ctrl-D.\", stacklevel=1)\n"
     ]
    }
   ],
   "source": [
    "#importing modules\n",
    "\n",
    "#imports the random function\n",
    "import random\n",
    "for i in range(5):\n",
    "    #tells python to run random and random integers from 1-10\n",
    "    print(random.randint(1,10))\n",
    "\n",
    "\n",
    "import random, sys, os, math\n",
    "#imports more than one module\n",
    "\n",
    "\n",
    "#ending a program early with sys.exit()\n",
    "import sys\n",
    "while True:\n",
    "    print('Type to exit.')\n",
    "    response = input()\n",
    "    if response == 'exit':\n",
    "        sys.exit()\n",
    "    print('You typed ' + response + '.')"
   ]
  },
  {
   "cell_type": "code",
   "execution_count": 55,
   "metadata": {},
   "outputs": [
    {
     "name": "stdout",
     "output_type": "stream",
     "text": [
      "3.5\n",
      "Error: Invalid argument.\n",
      "None\n"
     ]
    }
   ],
   "source": [
    "#error handling\n",
    "def spam(divideBy):\n",
    "    try:\n",
    "        return 42 / divideBy\n",
    "    except ZeroDivisionError:\n",
    "        print('Error: Invalid argument.')\n",
    "\n",
    "print(spam(12))\n",
    "print(spam(0))\n"
   ]
  },
  {
   "cell_type": "code",
   "execution_count": 60,
   "metadata": {},
   "outputs": [
    {
     "name": "stdout",
     "output_type": "stream",
     "text": [
      "21.0\n",
      "Error: Invalid arguement\n"
     ]
    }
   ],
   "source": [
    "def spam(divideby):\n",
    "    return 42/divideby\n",
    "\n",
    "try:\n",
    "    print(spam(2))\n",
    "    print(spam(0))\n",
    "    print(spam(0))\n",
    "    \n",
    "except ZeroDivisionError:\n",
    "    print('Error: Invalid arguement')\n",
    "    "
   ]
  },
  {
   "cell_type": "code",
   "execution_count": null,
   "metadata": {
    "collapsed": true
   },
   "outputs": [],
   "source": []
  }
 ],
 "metadata": {
  "kernelspec": {
   "display_name": "Python 3",
   "language": "python",
   "name": "python3"
  },
  "language_info": {
   "codemirror_mode": {
    "name": "ipython",
    "version": 3
   },
   "file_extension": ".py",
   "mimetype": "text/x-python",
   "name": "python",
   "nbconvert_exporter": "python",
   "pygments_lexer": "ipython3",
   "version": "3.6.1"
  },
  "widgets": {
   "application/vnd.jupyter.widget-state+json": {
    "state": {},
    "version_major": 1,
    "version_minor": 0
   }
  }
 },
 "nbformat": 4,
 "nbformat_minor": 2
}
