{
 "cells": [
  {
   "cell_type": "markdown",
   "metadata": {},
   "source": [
    "# Automate Boring Stuff Excel Example\n",
    "https://automatetheboringstuff.com/chapter12/"
   ]
  },
  {
   "cell_type": "code",
   "execution_count": 9,
   "metadata": {},
   "outputs": [
    {
     "data": {
      "text/plain": [
       "<Worksheet \"Sheet1\">"
      ]
     },
     "execution_count": 9,
     "metadata": {},
     "output_type": "execute_result"
    }
   ],
   "source": [
    "import openpyxl\n",
    "#gets workbook from personal folder\n",
    "wb = openpyxl.load_workbook('T:\\Operations\\Personal\\Carter E\\example.xlsx')\n",
    "#defines type as workbook\n",
    "type(wb)\n",
    "#gets workbook names\n",
    "wb.get_sheet_names()\n",
    "\n",
    "#gets workbook sheet 3 name\n",
    "sheet = wb.get_sheet_by_name('Sheet3')\n",
    "sheet\n",
    "\n",
    "#gets active worksheet name\n",
    "anotherSheet = wb.active\n",
    "anotherSheet\n",
    "\n",
    "\n"
   ]
  },
  {
   "cell_type": "code",
   "execution_count": 8,
   "metadata": {},
   "outputs": [
    {
     "name": "stdout",
     "output_type": "stream",
     "text": [
      "1 Apples\n",
      "3 Pears\n",
      "5 Apples\n",
      "7 Strawberries\n"
     ]
    }
   ],
   "source": [
    "import openpyxl\n",
    "wb = openpyxl.load_workbook('T:\\Operations\\Personal\\Carter E\\example.xlsx')\n",
    "sheet = wb.get_sheet_by_name('Sheet1')\n",
    "sheet['A1']\n",
    "#returns A1 value\n",
    "sheet['A1'].value\n",
    "\n",
    "#defines c as value and returns it\n",
    "c = sheet['B1']\n",
    "c = sheet['B1']\n",
    "c.value\n",
    "\n",
    "#states row (word) and string of what row and column of what column is value of C\n",
    "'Row ' + str(c.row) + ', Column ' + c.column + ' is ' + c.value\n",
    "\n",
    "#cell and returns coordinates of varaible c as well as c.value\n",
    "'Cell ' + c.coordinate  + ' is ' + c.value\n",
    "\n",
    "#returns value in C1\n",
    "sheet['C1'].value\n",
    "\n",
    "#returns value in row 1 column 2\n",
    "sheet.cell(row=1,column=2).value\n",
    "\n",
    "#for each i in every cell with an odd row number it prints the value\n",
    "for i in range(1, 8, 2):\n",
    "    print(i, sheet.cell(row=i, column=2).value)"
   ]
  },
  {
   "cell_type": "code",
   "execution_count": 6,
   "metadata": {},
   "outputs": [
    {
     "data": {
      "text/plain": [
       "'C:\\\\Users\\\\carter'"
      ]
     },
     "execution_count": 6,
     "metadata": {},
     "output_type": "execute_result"
    }
   ],
   "source": [
    "#gets location of active drive\n",
    "import os\n",
    "os.getcwd()"
   ]
  },
  {
   "cell_type": "code",
   "execution_count": 4,
   "metadata": {},
   "outputs": [
    {
     "data": {
      "text/plain": [
       "7"
      ]
     },
     "execution_count": 4,
     "metadata": {},
     "output_type": "execute_result"
    }
   ],
   "source": [
    "#determine worksheet's max row and max column\n",
    "import openpyxl\n",
    "wb = openpyxl.load_workbook('T:\\Operations\\Personal\\Carter E\\example.xlsx')\n",
    "sheet = wb.get_sheet_by_name('Sheet1')\n",
    "sheet.max_row\n",
    "#sheet.max_column\n",
    "\n"
   ]
  },
  {
   "cell_type": "markdown",
   "metadata": {},
   "source": [
    "Here, we specify that we want the Cell objects in the rectangular area from A1 to C3, \n",
    "and we get a Generator object containing the Cell objects in that area. \n",
    "To help us visualize this Generator object, we can use tuple() on it to display its Cell objects in a tuple.\n",
    "This tuple contains three tuples: one for each row, \n",
    "from the top of the desired area to the bottom. \n",
    "Each of these three inner tuples contains the Cell objects in one row of our desired area, \n",
    "from the leftmost cell to the right. So overall, our slice of the sheet contains all the Cell objects \n",
    "in the area from A1 to C3, starting from the top-left cell and ending with the bottom-right cell.\n",
    "To print the values of each cell in the area, we use two for loops. \n",
    "The outer for loop goes over each row in the slice ❶. \n",
    "Then, for each row, the nested for loop goes through each cell in that row ❷."
   ]
  },
  {
   "cell_type": "code",
   "execution_count": 1,
   "metadata": {},
   "outputs": [
    {
     "name": "stdout",
     "output_type": "stream",
     "text": [
      "A1 2015-04-05 13:34:02\n",
      "B1 Apples\n",
      "C1 73\n",
      "---- END OF ROW---\n",
      "A2 2015-04-05 03:41:23\n",
      "B2 Cherries\n",
      "C2 85\n",
      "---- END OF ROW---\n",
      "A3 2015-04-06 12:46:51\n",
      "B3 Pears\n",
      "C3 14\n",
      "---- END OF ROW---\n"
     ]
    }
   ],
   "source": [
    "#get all cell objects in a row, column or rectangular area of a spreadsheet\n",
    "import openpyxl\n",
    "wb = openpyxl.load_workbook('T:\\Operations\\Personal\\Carter E\\example.xlsx')\n",
    "sheet = wb.get_sheet_by_name('Sheet1')\n",
    "tuple(sheet['A1':'C1'])\n",
    "for rowOfCellObjects in sheet['A1':'C3']:\n",
    "    for cellObj in rowOfCellObjects:\n",
    "        print(cellObj.coordinate, cellObj.value)\n",
    "    print('---- END OF ROW---')\n",
    "\n",
    "  #description in above cell"
   ]
  },
  {
   "cell_type": "code",
   "execution_count": 13,
   "metadata": {},
   "outputs": [
    {
     "name": "stdout",
     "output_type": "stream",
     "text": [
      "Opening workbook...\n",
      "Reading Rows...\n",
      "Writing results...\n",
      "Done.\n"
     ]
    }
   ],
   "source": [
    "import openpyxl,pprint\n",
    "print('Opening workbook...')\n",
    "wb = openpyxl.load_workbook('T:\\Operations\\Personal\\Carter E\\censuspopdata.xlsx')\n",
    "sheet = wb.get_sheet_by_name('Population by Census Tract')\n",
    "countyData = {}\n",
    "\n",
    "#TODO: fill in country data with each country's population and tracts\n",
    "print('Reading Rows...')\n",
    "for row in range(2, sheet.max_row + 1):\n",
    "    #for each row in range of 2, and max row + 1\n",
    "    # each row in the spreadsheet has data for one census tract\n",
    "    state = sheet['B' + str(row)].value\n",
    "    county = sheet['C' + str(row)].value\n",
    "    pop = sheet['D' + str(row)].value\n",
    "\n",
    "    #to do: open a new text file and write the contents of countrydata to it\n",
    "\n",
    "#above code opens openpyxl module, as well as the pprint module that you'll uyse to print the final country data.\n",
    "#then it opens the excel file, gets sheet with census data and begins iterating over its rows\n",
    "\n",
    "#make sure the key for this state exists.\n",
    "countyData.setdefault(state,{})\n",
    "#make sure key for this country exists\n",
    "countyData[state].setdefault(county, {'tracts': 0, 'pop': 0})\n",
    "\n",
    "\n",
    "\n",
    " # Each row represents one census tract, so increment by one.\n",
    "countyData[state][county]['tracts'] += 1\n",
    "       # Increase the county pop by the pop in this census tract.\n",
    "countyData[state][county]['pop'] += int(pop)\n",
    "\n",
    "\n",
    "#write results to a file\n",
    "print('Writing results...')\n",
    "resultFile = open('census2010.py', 'w')\n",
    "resultFile.write('allData = ' + pprint.pformat(countyData))\n",
    "resultFile.close()\n",
    "print('Done.')\n",
    "#The pprint.pformat() function produces a string that itself is formatted as valid Python code. \n",
    "#now, with the above code. We can import the python string as you see in the below fields\n"
   ]
  },
  {
   "cell_type": "code",
   "execution_count": 16,
   "metadata": {},
   "outputs": [
    {
     "name": "stdout",
     "output_type": "stream",
     "text": [
      "The 2010 population of Anchorage was 291826\n"
     ]
    }
   ],
   "source": [
    "#importing python data from C Drive\n",
    "import os\n",
    "os.chdir('C:\\Downloads')\n",
    "import census2010\n",
    "census2010.allData['AK']['Anchorage']\n",
    "anchoragePop = census2010.allData['AK']['Anchorage']['pop']\n",
    "print('The 2010 population of Anchorage was ' + str(anchoragePop))"
   ]
  },
  {
   "cell_type": "markdown",
   "metadata": {},
   "source": [
    "# Creating and Saving Excel Documents"
   ]
  },
  {
   "cell_type": "code",
   "execution_count": 52,
   "metadata": {
    "collapsed": true
   },
   "outputs": [],
   "source": [
    "#creates and saves a excel sheet with a sheet title and saves it in personal, python folder\n",
    "\n",
    "import openpyxl\n",
    "wb = openpyxl.Workbook()\n",
    "wb.get_sheet_names()\n",
    "#output = ['Sheet1']\n",
    "sheet = wb.active\n",
    "sheet.title\n",
    "sheet.title = 'Created Using Python!!!!!!'\n",
    "wb.get_sheet_names()\n",
    "wb.save('T:\\Operations\\Personal\\Carter E\\Python Docs\\saving excel sheet.xlsx')\n"
   ]
  },
  {
   "cell_type": "code",
   "execution_count": 4,
   "metadata": {
    "collapsed": true
   },
   "outputs": [],
   "source": [
    "#changing the name of a worksheet\n",
    "\n",
    "import openpyxl\n",
    "wb = openpyxl.load_workbook('T:\\Operations\\Personal\\Carter E\\Python Docs\\saving excel sheet.xlsx')\n",
    "sheet = wb.active\n",
    "sheet.title = 'Spamalot'\n",
    "wb.save('T:\\Operations\\Personal\\Carter E\\Python Docs\\saving excel sheet copy.xlsx')"
   ]
  },
  {
   "cell_type": "code",
   "execution_count": 3,
   "metadata": {},
   "outputs": [
    {
     "data": {
      "text/plain": [
       "['First Sheet', 'Sheet']"
      ]
     },
     "execution_count": 3,
     "metadata": {},
     "output_type": "execute_result"
    }
   ],
   "source": [
    "import openpyxl\n",
    "#opens workbook\n",
    "wb = openpyxl.Workbook()\n",
    "#gets inital sheet names\n",
    "wb.get_sheet_names()\n",
    "#creates a new sheet\n",
    "wb.create_sheet()\n",
    "wb.get_sheet_names()\n",
    "#creates a new sheet titled first sheet\n",
    "wb.create_sheet(index=0,title='First Sheet')\n",
    "wb.get_sheet_names()\n",
    "#creates a middlesheet in the 3rd slot (0 is a number)\n",
    "wb.create_sheet(index=2,title='Middle Sheet')\n",
    "wb.get_sheet_names()\n",
    "\n",
    "wb.remove_sheet(wb.get_sheet_by_name('Middle Sheet'))\n",
    "wb.remove_sheet(wb.get_sheet_by_name('Sheet1'))\n",
    "wb.get_sheet_names()\n",
    "                             "
   ]
  },
  {
   "cell_type": "code",
   "execution_count": 2,
   "metadata": {
    "collapsed": true
   },
   "outputs": [],
   "source": [
    "import openpyxl\n",
    "wb = openpyxl.load_workbook('T:\\Operations\\Personal\\Carter E\\Python Docs\\produceSales.xlsx')\n",
    "sheet = wb.get_sheet_by_name('Sheet')\n",
    "PRICE_UPDATES = {'Garlic': 3.07,\n",
    "                'Celery':1.19,\n",
    "                'Lemon':1.27}\n",
    "#todo: loop through rows and update the prices\n",
    "\n",
    "for rowNum in range(2, sheet.max_row):  # skip the first row\n",
    "    produceName = sheet.cell(row=rowNum,column=1).value\n",
    "    if produceName in PRICE_UPDATES:\n",
    "        sheet.cell(row=rowNum,column=2).value = PRICE_UPDATES[produceName]\n",
    "wb.save(r'T:\\Operations\\Personal\\Carter E\\Python Docs\\updatedProduceSales.xlsx')\n",
    "\n",
    "#above code loops through rows and updates the prices according to above. The \"r\" before the saving string makes\n",
    "#it a string so the file is able to be saved out there"
   ]
  },
  {
   "cell_type": "markdown",
   "metadata": {},
   "source": [
    "Possible uses for similar programs:\n",
    "\n",
    "Read data from one spreadsheet and write it to parts of other spreadsheets.\n",
    "\n",
    "Read data from websites, text files, or the clipboard and write it to a spreadsheet.\n",
    "\n",
    "Automatically “clean up” data in spreadsheets. For example, it could use regular expressions to read multiple formats of phone numbers and edit them to a single, standard format.\n"
   ]
  },
  {
   "cell_type": "code",
   "execution_count": 36,
   "metadata": {
    "collapsed": true
   },
   "outputs": [],
   "source": [
    "#setting the font style of cells\n",
    "import openpyxl\n",
    "from openpyxl.styles import Font\n",
    "wb = openpyxl.Workbook()\n",
    "sheet = wb.get_sheet_by_name('Sheet')\n",
    "italic24Font = Font(size=24, italic=True)\n",
    "sheet['A1'].font = italic24Font\n",
    "sheet['A1'] = 'Hello World'\n",
    "wb.save(r'T:\\Operations\\Personal\\Carter E\\Python Docs\\styled.xlsx')\n",
    "\n",
    "#A cell’s style can be set by assigning the Font object to the style attribute.\n"
   ]
  },
  {
   "cell_type": "markdown",
   "metadata": {},
   "source": [
    "name -> String -> The font name, such as 'Calibri' or 'Times New Roman'\n",
    "size -> Integer -> The point size\n",
    "bold -> Boolean ->True, for bold font\n",
    "italic -> Boolean->True, for italic font"
   ]
  }
 ],
 "metadata": {
  "kernelspec": {
   "display_name": "Python 3",
   "language": "python",
   "name": "python3"
  },
  "language_info": {
   "codemirror_mode": {
    "name": "ipython",
    "version": 3
   },
   "file_extension": ".py",
   "mimetype": "text/x-python",
   "name": "python",
   "nbconvert_exporter": "python",
   "pygments_lexer": "ipython3",
   "version": "3.6.1"
  }
 },
 "nbformat": 4,
 "nbformat_minor": 2
}
