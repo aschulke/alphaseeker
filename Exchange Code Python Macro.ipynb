{
 "cells": [
  {
   "cell_type": "markdown",
   "metadata": {},
   "source": [
    "# Exchange Code Population\n"
   ]
  },
  {
   "cell_type": "code",
   "execution_count": 1,
   "metadata": {
    "scrolled": true
   },
   "outputs": [
    {
     "name": "stdout",
     "output_type": "stream",
     "text": [
      "       cusip  exchange  PRN_CURR  INC_CURR\n",
      "0  915217WX7            US DOL    US DOL  \n"
     ]
    }
   ],
   "source": [
    "import pandas as pd\n",
    "import os\n",
    "import win32com.client\n",
    "import pyodbc as pysql\n",
    "import pyperclip\n",
    "\n",
    "#runs sql query\n",
    "con = pysql.connect('DRIVER={SQL Server};'\n",
    "                    'Server=SL-SQL2;'\n",
    "                    'Database=NISAReportingData;')\n",
    "\n",
    "df = pd.read_sql(\"SELECT cusip,exchange,PRN_CURR,INC_CURR from dbo.security where sec_type in ('Agency', 'CADCORP', 'CADGOVT', 'CORPORATE', 'GOVGUAR', 'HYBRID', 'JPYTBILL', 'MUNICIPAL', 'TBILL', 'TREASURY', 'UST STRIP') and exchange = '' or exchange is null \", con)\n",
    "print(df)\n",
    "\n",
    "if df.empty:\n",
    "    print ('None for Today')\n",
    "else:\n",
    "    #runs macro\n",
    "    xl=win32com.client.Dispatch(\"Excel.Application\")\n",
    "    xl.Workbooks.Open(Filename=\"T:\\Operations\\Personal\\Carter E\\Exchange Code Query.xlsm\",ReadOnly=1)\n",
    "    xl.Application.Run(\"all\")\n",
    "    xl = 0\n",
    "\n",
    "pyperclip.copy(r'G:\\Camra\\Uploads\\Exchange_Code_upload.csv')\n",
    "spam = pyperclip.paste()\n"
   ]
  },
  {
   "cell_type": "code",
   "execution_count": 7,
   "metadata": {
    "collapsed": true
   },
   "outputs": [],
   "source": [
    "#opening notepad from python\n",
    "from pywinauto.application import Application\n",
    "app = Application().start(\"notepad.exe\")"
   ]
  },
  {
   "cell_type": "code",
   "execution_count": null,
   "metadata": {
    "collapsed": true
   },
   "outputs": [],
   "source": []
  },
  {
   "cell_type": "markdown",
   "metadata": {},
   "source": [
    "#runs macro this is code, just marked down\n",
    "\n",
    "import os\n",
    "import win32com.client\n",
    "xl=win32com.client.Dispatch(\"Excel.Application\")\n",
    "xl.Workbooks.Open(Filename=\"T:\\Operations\\Personal\\Carter E\\Exchange Code Query.xlsm\",ReadOnly=1)\n",
    "xl.Application.Run(\"all\")\n",
    "xl = 0\n"
   ]
  },
  {
   "cell_type": "markdown",
   "metadata": {},
   "source": [
    "#example of sql query, this is code just marked down\n",
    "\n",
    "\n",
    "import pandas as pd\n",
    "import os\n",
    "import win32com.client\n",
    "\n",
    "\n",
    "\n",
    "#runs sql query\n",
    "con = pysql.connect('DRIVER={SQL Server};'\n",
    "                    'Server=SL-SQL2;'\n",
    "                    'Database=NISAReportingData;')\n",
    "\n",
    "df = pd.read_sql(\"SELECT cusip,exchange,PRN_CURR,INC_CURR from dbo.security where exchange is null and sec_type in ('Agency', 'CADCORP', 'CADGOVT', 'CORPORATE', 'GOVGUAR', 'HYBRID', 'JPYTBILL', 'MUNICIPAL', 'TBILL', 'TREASURY', 'UST STRIP') \", con)\n",
    "print(df)\n",
    "\n",
    "print .rowcount(df)\n",
    "\n",
    "if Empty:\n",
    "    #runs macro\n",
    "    xl=win32com.client.Dispatch(\"Excel.Application\")\n",
    "    xl.Workbooks.Open(Filename=\"T:\\Operations\\Personal\\Carter E\\Exchange Code Query.xlsm\",ReadOnly=1)\n",
    "    xl.Application.Run(\"all\")\n",
    "    xl = 0\n",
    "else:\n",
    "    print ('None for Today')\n"
   ]
  }
 ],
 "metadata": {
  "kernelspec": {
   "display_name": "Python 3",
   "language": "python",
   "name": "python3"
  },
  "language_info": {
   "codemirror_mode": {
    "name": "ipython",
    "version": 3
   },
   "file_extension": ".py",
   "mimetype": "text/x-python",
   "name": "python",
   "nbconvert_exporter": "python",
   "pygments_lexer": "ipython3",
   "version": "3.6.1"
  }
 },
 "nbformat": 4,
 "nbformat_minor": 2
}
