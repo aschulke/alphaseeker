{
 "cells": [
  {
   "cell_type": "markdown",
   "metadata": {},
   "source": [
    "https://github.com/mkleehammer/pyodbc/wiki \n",
    "\n",
    "https://wiki.python.org/moin/SQL%20Server\n",
    "\n",
    "https://wiki.python.org/moin/SQL%20Server"
   ]
  },
  {
   "cell_type": "markdown",
   "metadata": {},
   "source": [
    "conn = pyodbc.connect(\n",
    "    r'DRIVER={ODBC Driver 11 for SQL Server};'\n",
    "    r'SERVER=test;'\n",
    "    r'DATABASE=test;'\n",
    "    r'UID=user;'\n",
    "    r'PWD=password'\n",
    "    )"
   ]
  },
  {
   "cell_type": "markdown",
   "metadata": {},
   "source": [
    "connect(info) - to connect to the database\n",
    "cursor() - will get a cursor object ready to execute queries\n",
    "execute(sql) - an sql query\n",
    "fetchone() - returns just one row\n",
    "fetchall() - returns a list of lists\n",
    "commit() - saves the changes on the database\n",
    "rollback() - rolls all temporary changes back\n",
    "close() - closes the connection up\n",
    "executemany() - executes a parameterized query\n",
    "executescript() - executes a string of multiple SQL statemnets separated by a semi-colon ';'"
   ]
  },
  {
   "cell_type": "code",
   "execution_count": 6,
   "metadata": {
    "collapsed": true
   },
   "outputs": [],
   "source": [
    "# VBA ->  Public Const CONNECTION_STRING_2 = \"Driver=SQL Server <GO>;Server=SL-SQL2;provider=sqloledb;Database=NISAReportingData;Integrated Security=SSPI\"\n",
    "import pyodbc as pysql\n",
    "con = pysql.connect('DRIVER={SQL Server};'\n",
    "                    'Server=SL-SQL2;'\n",
    "                    'Database=NISAReportingData;')\n",
    "cur = con.cursor()\n",
    "# SQLCommand = (\"SELECT * FROM dbo.HOLDTRAD\")\n",
    "cur.execute('SELECT ERROR_DESC, TRAN_TYPE FROM dbo.HOLDTRAD')\n",
    "for row in cur:\n",
    "    print('row = %r' % (row,))\n",
    "con.close()\n"
   ]
  },
  {
   "cell_type": "code",
   "execution_count": 7,
   "metadata": {},
   "outputs": [
    {
     "name": "stdout",
     "output_type": "stream",
     "text": [
      "Empty DataFrame\n",
      "Columns: [ERROR_DESC, TRAN_TYPE]\n",
      "Index: []\n"
     ]
    }
   ],
   "source": [
    "import pandas as pd\n",
    "con = pysql.connect('DRIVER={SQL Server};'\n",
    "                    'Server=SL-SQL2;'\n",
    "                    'Database=NISAReportingData;')\n",
    "df = pd.read_sql_query('SELECT ERROR_DESC, TRAN_TYPE FROM dbo.HOLDTRAD', con)\n",
    "print(df)"
   ]
  },
  {
   "cell_type": "code",
   "execution_count": 8,
   "metadata": {},
   "outputs": [
    {
     "ename": "Error",
     "evalue": "('IM002', '[IM002] [Microsoft][ODBC Driver Manager] Data source name not found and no default driver specified (0) (SQLDriverConnect)')",
     "output_type": "error",
     "traceback": [
      "\u001b[1;31m---------------------------------------------------------------------------\u001b[0m",
      "\u001b[1;31mError\u001b[0m                                     Traceback (most recent call last)",
      "\u001b[1;32m<ipython-input-8-9381b804d2b0>\u001b[0m in \u001b[0;36m<module>\u001b[1;34m()\u001b[0m\n\u001b[0;32m      1\u001b[0m \u001b[1;32mimport\u001b[0m \u001b[0mpandas\u001b[0m \u001b[1;32mas\u001b[0m \u001b[0mpd\u001b[0m\u001b[1;33m\u001b[0m\u001b[0m\n\u001b[1;32m----> 2\u001b[1;33m con = pysql.connect('DRIVER=SQL Server <GO>;'\n\u001b[0m\u001b[0;32m      3\u001b[0m                     \u001b[1;34m'Server=SL-SQL2;'\u001b[0m\u001b[1;33m\u001b[0m\u001b[0m\n\u001b[0;32m      4\u001b[0m                     'Database=NISAReportingData;')\n\u001b[0;32m      5\u001b[0m df = pd.read_sql('SELECT top 10 \"cusip\",\"exchange\",\"PRN_CURR\",\"INC_CURR\" from dbo.security'\n",
      "\u001b[1;31mError\u001b[0m: ('IM002', '[IM002] [Microsoft][ODBC Driver Manager] Data source name not found and no default driver specified (0) (SQLDriverConnect)')"
     ]
    }
   ],
   "source": [
    "import pandas as pd\n",
    "con = pysql.connect('DRIVER=SQL Server <GO>;'\n",
    "                    'Server=SL-SQL2;'\n",
    "                    'Database=NISAReportingData;')\n",
    "df = pd.read_sql('SELECT top 10 \"cusip\",\"exchange\",\"PRN_CURR\",\"INC_CURR\" from dbo.security'\n",
    "                       '', con)\n",
    "print(df)"
   ]
  },
  {
   "cell_type": "code",
   "execution_count": null,
   "metadata": {
    "collapsed": true
   },
   "outputs": [],
   "source": []
  },
  {
   "cell_type": "code",
   "execution_count": null,
   "metadata": {
    "collapsed": true
   },
   "outputs": [],
   "source": []
  },
  {
   "cell_type": "code",
   "execution_count": null,
   "metadata": {
    "collapsed": true
   },
   "outputs": [],
   "source": []
  },
  {
   "cell_type": "code",
   "execution_count": null,
   "metadata": {
    "collapsed": true
   },
   "outputs": [],
   "source": []
  },
  {
   "cell_type": "code",
   "execution_count": null,
   "metadata": {
    "collapsed": true
   },
   "outputs": [],
   "source": []
  }
 ],
 "metadata": {
  "kernelspec": {
   "display_name": "Python 3",
   "language": "python",
   "name": "python3"
  },
  "language_info": {
   "codemirror_mode": {
    "name": "ipython",
    "version": 3
   },
   "file_extension": ".py",
   "mimetype": "text/x-python",
   "name": "python",
   "nbconvert_exporter": "python",
   "pygments_lexer": "ipython3",
   "version": "3.6.1"
  }
 },
 "nbformat": 4,
 "nbformat_minor": 2
}
