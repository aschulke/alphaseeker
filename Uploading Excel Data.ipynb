{
 "cells": [
  {
   "cell_type": "code",
   "execution_count": null,
   "metadata": {
    "collapsed": true
   },
   "outputs": [],
   "source": [
    "import os\n",
    "import pandas as pd\n",
    "import openpyxl\n",
    "from openpyxl import load_workbook\n",
    "import xlrd\n",
    "\n",
    "book = xlrd.open_workbook('T:\\\\Operations\\\\Personal\\\\Carter E\\\\Python Docs\\\\Names_PY.xlsx')\n",
    "wb = xlrd.open_workbook('T:\\\\Operations\\\\Personal\\\\Carter E\\\\Python Docs\\\\Names_PY.xlsx')\n",
    "\n",
    "#print number of worksheets in excel file\n",
    "print (\"the number of worksheets are \", book.nsheets)\n",
    "\n",
    "#now the names of the worksheets in excel file\n",
    "print(\"the names of worksheets are \", book.sheet_names())\n",
    "\n",
    "#choose a specific workbook to import data\n",
    "sheet = book.sheet_by_index(0)\n",
    "\n",
    "for j in range(0,2):\n",
    "    for i in range(1,3):\n",
    "        print (sheet.cell_value(i,j))"
   ]
  },
  {
   "cell_type": "code",
   "execution_count": null,
   "metadata": {
    "collapsed": true
   },
   "outputs": [],
   "source": [
    "import os\n",
    "import pandas as pd\n",
    "import openpyxl\n",
    "from openpyxl import load_workbook\n",
    "import xlrd\n",
    "from IPython.display import display\n",
    "\n",
    "\n",
    "path = 'T:\\\\Operations\\\\Personal\\\\Carter E\\\\Python Docs\\\\Names_PY.xlsx'\n",
    "\n",
    "workbook = xlrd.open_workbook(path)\n",
    "worksheet = workbook.sheet_by_index(0)\n",
    "\n",
    "# Change this depending on how many header rows are present\n",
    "# Set to 0 if you want to include the header data.\n",
    "offset = 1\n",
    "\n",
    "rows = []\n",
    "for i, row in enumerate(range(worksheet.nrows)):\n",
    "    r = []\n",
    "    for j, col in enumerate(range(worksheet.ncols)):\n",
    "        r.append(worksheet.cell_value(i, j))\n",
    "    rows.append(r)\n",
    "\n",
    "print ('Got %d rows')\n",
    "print (rows[5])  # Print column headings\n",
    "#print (rows[offset])  # Print first data row sample"
   ]
  },
  {
   "cell_type": "markdown",
   "metadata": {},
   "source": [
    "## Read Excel File using Pandas"
   ]
  },
  {
   "cell_type": "code",
   "execution_count": null,
   "metadata": {
    "collapsed": true
   },
   "outputs": [],
   "source": [
    "#surpress warnings message\n",
    "import warnings; warnings.simplefilter(\"ignore\")"
   ]
  },
  {
   "cell_type": "code",
   "execution_count": null,
   "metadata": {
    "collapsed": true
   },
   "outputs": [],
   "source": [
    "#import some extention libraries\n",
    "%matplotlib inline\n",
    "import matplotlib.pyplot as plt\n",
    "import seaborn as sns\n",
    "import numpy as np\n",
    "import pandas"
   ]
  },
  {
   "cell_type": "markdown",
   "metadata": {},
   "source": [
    "### Read Excel File"
   ]
  },
  {
   "cell_type": "code",
   "execution_count": null,
   "metadata": {
    "collapsed": true
   },
   "outputs": [],
   "source": [
    "#Read the wholebook\n",
    "wb = pd.ExcelFile(r\"T:\\Operations\\Personal\\Carter E\\Python Docs\\Names_PY.xlsx\")\n",
    "\n",
    "#read the first sheet (sheet_1)\n",
    "sheet_1 = pd.read_excel(r\"T:\\Operations\\Personal\\Carter E\\Python Docs\\Names_PY.xlsx\",sheetname = 0)\n",
    "\n",
    "#read the second sheet (sheet_2)\n",
    "sheet_2 = pd.read_excel(r\"T:\\Operations\\Personal\\Carter E\\Python Docs\\Names_PY.xlsx\",sheetname = 1)\n",
    "\n"
   ]
  },
  {
   "cell_type": "code",
   "execution_count": null,
   "metadata": {
    "collapsed": true
   },
   "outputs": [],
   "source": [
    "#display the sheet names in the workbook\n",
    "read_sheets_name = wb.sheet_names\n",
    "print(read_sheets_name,\"\\n\")\n",
    "\n",
    "#count sheets in the workbook\n",
    "print (\"There are %d sheets in the workbook\" % len(read_sheets_name))"
   ]
  },
  {
   "cell_type": "code",
   "execution_count": null,
   "metadata": {
    "collapsed": true
   },
   "outputs": [],
   "source": [
    "#display the records in the first sheet\n",
    "sheet_2"
   ]
  },
  {
   "cell_type": "code",
   "execution_count": null,
   "metadata": {
    "collapsed": true
   },
   "outputs": [],
   "source": [
    "    #display the first few robs\n",
    "sheet_1.head()\n",
    "\n",
    "#display last few rows\n",
    "sheet_1.tail()"
   ]
  },
  {
   "cell_type": "code",
   "execution_count": null,
   "metadata": {
    "collapsed": true
   },
   "outputs": [],
   "source": [
    "#indexing by rows / records\n",
    "sheet_1[0:3]\n"
   ]
  },
  {
   "cell_type": "code",
   "execution_count": null,
   "metadata": {
    "collapsed": true
   },
   "outputs": [],
   "source": [
    "#indexing by sheet columns sheet 2\n",
    "sheet_2[[\"Year\",\"Curr\"]]"
   ]
  },
  {
   "cell_type": "code",
   "execution_count": null,
   "metadata": {
    "collapsed": true
   },
   "outputs": [],
   "source": [
    "#indexing by sheet columns sheet 1\n",
    "sheet_1[[\"Name\",\"Group\"]]"
   ]
  },
  {
   "cell_type": "markdown",
   "metadata": {},
   "source": [
    "https://matplotlib.org/gallery.html"
   ]
  },
  {
   "cell_type": "code",
   "execution_count": 2,
   "metadata": {
    "collapsed": true,
    "scrolled": true
   },
   "outputs": [],
   "source": [
    "import numpy as np\n",
    "import matplotlib.pyplot as plt\n",
    "import pandas as pd\n",
    "\n",
    "#Read the wholebook\n",
    "wb = pd.ExcelFile(r\"T:\\Operations\\Personal\\Carter E\\Python Docs\\Names_PY.xlsx\")\n",
    "\n",
    "#read the second sheet (sheet_2)\n",
    "sheet_2 = pd.read_excel(r\"T:\\Operations\\Personal\\Carter E\\Python Docs\\Names_PY.xlsx\",sheetname = 1)\n",
    "\n",
    "\n",
    "\n",
    "df = sheet_2[[\"Curr\"]]\n",
    "df2 = sheet_2[[\"Year\"]]\n",
    "data = df\n",
    "xaxis = df2\n",
    "\n",
    "#x = df2.plot()\n",
    "#y = df.plot()\n",
    "plt.show()\n",
    "\n",
    "\n"
   ]
  },
  {
   "cell_type": "code",
   "execution_count": 3,
   "metadata": {},
   "outputs": [
    {
     "name": "stdout",
     "output_type": "stream",
     "text": [
      "    Year      Curr        1D        1M       1Yr\n",
      "0      1  0.014720  0.014668  0.014608  0.009303\n",
      "1      2  0.016137  0.016033  0.016410  0.010088\n",
      "2      3  0.017215  0.017100  0.017863  0.010725\n",
      "3      4  0.018145  0.018014  0.019030  0.011345\n",
      "4      5  0.018994  0.018862  0.020035  0.011986\n",
      "5      6  0.019800  0.019685  0.020902  0.012643\n",
      "6      7  0.020562  0.020430  0.021660  0.013268\n",
      "7      8  0.021208  0.021089  0.022307  0.013853\n",
      "8      9  0.021787  0.021662  0.022879  0.014401\n",
      "9     10  0.022303  0.022129  0.023363  0.014878\n",
      "10    11  0.022790  0.022612  0.023820  0.015340\n",
      "11    12  0.023170  0.022967  0.024172  0.015750\n",
      "12    13  0.023515  0.023330  0.024571  0.016030\n",
      "13    14  0.023740  0.023570  0.024728  0.016340\n",
      "14    15  0.024032  0.023829  0.024934  0.016720\n",
      "15    16  0.024240  0.024080  0.025103  0.016864\n",
      "16    17  0.024445  0.024235  0.026962  0.017200\n",
      "17    18  0.024585  0.024415  0.025408  0.017307\n",
      "18    19  0.024720  0.024550  0.025530  0.017492\n",
      "19    20  0.024845  0.024673  0.025581  0.017740\n",
      "20    25  0.025187  0.025001  0.025906  0.018208\n",
      "21    30  0.025313  0.025077  0.025973  0.018480\n"
     ]
    },
    {
     "data": {
      "image/png": "[encoded data removed]",
      "text/plain": [
       "<matplotlib.figure.Figure at 0xd1fbf28>"
      ]
     },
     "metadata": {},
     "output_type": "display_data"
    }
   ],
   "source": [
    "\n",
    "import pandas as pd\n",
    "import numpy as np\n",
    "from matplotlib.ticker import FuncFormatter\n",
    "from matplotlib.ticker import FormatStrFormatter\n",
    "import matplotlib.pyplot as plt\n",
    "\n",
    "#Read the wholebook\n",
    "wb = pd.ExcelFile(r\"T:\\Operations\\Personal\\Carter E\\Python Docs\\Names_PY.xlsx\")\n",
    "\n",
    "#read the second sheet (sheet_2)\n",
    "sheet_2 = pd.read_excel(r\"T:\\Operations\\Personal\\Carter E\\Python Docs\\Names_PY.xlsx\",sheetname = 1)\n",
    "\n",
    "print (sheet_2)\n",
    "\n",
    "df = sheet_2\n",
    "\n",
    "ax = df.plot(\"Year\",\"Curr\")\n",
    "ax.yaxis.set_major_formatter(FuncFormatter(lambda y, _: '{:.4%}'.format(y))) \n",
    "plt.show()"
   ]
  },
  {
   "cell_type": "code",
   "execution_count": 3,
   "metadata": {
    "scrolled": true
   },
   "outputs": [
    {
     "data": {
      "image/png": "[encoded data removed]",
      "text/plain": [
       "<matplotlib.figure.Figure at 0x4987b70>"
      ]
     },
     "metadata": {},
     "output_type": "display_data"
    },
    {
     "data": {
      "image/png": "[encoded data removed]",
      "text/plain": [
       "<matplotlib.figure.Figure at 0x9f534e0>"
      ]
     },
     "metadata": {},
     "output_type": "display_data"
    },
    {
     "data": {
      "image/png": "[encoded data removed]",
      "text/plain": [
       "<matplotlib.figure.Figure at 0xa676358>"
      ]
     },
     "metadata": {},
     "output_type": "display_data"
    }
   ],
   "source": [
    "#Yield Curve given excel data\n",
    "import pandas as pd\n",
    "import numpy as np\n",
    "from matplotlib.ticker import FuncFormatter\n",
    "from matplotlib.ticker import FormatStrFormatter\n",
    "import matplotlib.pyplot as plt\n",
    "\n",
    "#Read the wholebook\n",
    "wb = pd.ExcelFile(r\"T:\\Operations\\Personal\\Carter E\\Python Docs\\Names_PY.xlsx\")\n",
    "\n",
    "#read the second sheet (sheet_2)\n",
    "sheet_2 = pd.read_excel(r\"T:\\Operations\\Personal\\Carter E\\Python Docs\\Names_PY.xlsx\",sheetname = 1)\n",
    "\n",
    " \n",
    "ax = df.plot(\"Year\")\n",
    "ax.legend(loc = 'best')\n",
    "ax.yaxis.set_major_formatter(FuncFormatter(lambda y, _: '{:.4%}'.format(y)))\n",
    "plt.show()\n"
   ]
  },
  {
   "cell_type": "markdown",
   "metadata": {},
   "source": [
    "# EEM VS VWO Graphs"
   ]
  },
  {
   "cell_type": "code",
   "execution_count": null,
   "metadata": {
    "collapsed": true
   },
   "outputs": [],
   "source": [
    "#Yield Curve given excel data\n",
    "import pandas as pd\n",
    "import numpy as np\n",
    "from matplotlib.ticker import FuncFormatter\n",
    "from matplotlib.ticker import FormatStrFormatter\n",
    "import matplotlib.pyplot as plt\n",
    "\n",
    "\n",
    "#read the second sheet (sheet_2)\n",
    "VWOdata = pd.read_excel(r\"T:\\Operations\\Personal\\Carter E\\Python Docs\\Composition of Indicies.xlsx\",sheetname = 4)\n",
    "\n",
    "print (VWOdata)\n",
    "\n",
    "ax = df.plot(VWOdata)\n"
   ]
  }
 ],
 "metadata": {
  "kernelspec": {
   "display_name": "Python 3",
   "language": "python",
   "name": "python3"
  },
  "language_info": {
   "codemirror_mode": {
    "name": "ipython",
    "version": 3
   },
   "file_extension": ".py",
   "mimetype": "text/x-python",
   "name": "python",
   "nbconvert_exporter": "python",
   "pygments_lexer": "ipython3",
   "version": "3.6.1"
  }
 },
 "nbformat": 4,
 "nbformat_minor": 2
}
