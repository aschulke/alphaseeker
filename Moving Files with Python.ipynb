{
 "cells": [
  {
   "cell_type": "code",
   "execution_count": null,
   "metadata": {
    "scrolled": true
   },
   "outputs": [],
   "source": [
    "import openpyxl\n",
    "import os\n",
    "filepath = ('T:\\Operations\\Personal\\Carter E\\Python Docs\\styled.xlsx')\n",
    "from openpyxl import load_workbook,workbook\n",
    "\n",
    "wb = openpyxl.load_workbook(filepath)\n",
    "\n",
    "sheet = wb.active\n",
    "sheet.title = 'Sheet1'\n",
    "wb.save(filepath)\n",
    "\n",
    "sheet = wb.get_sheet_by_name('Sheet1')\n",
    "for i in range(1, 8, 1):\n",
    "        print(i, sheet.cell(row=i, column=1).value)\n",
    "\n",
    "#wb.save(filepath)\n",
    "#wb.save('T:\\Operations\\Personal\\Carter E')        "
   ]
  },
  {
   "cell_type": "code",
   "execution_count": 3,
   "metadata": {
    "scrolled": false
   },
   "outputs": [
    {
     "name": "stdout",
     "output_type": "stream",
     "text": [
      "92343VDQ4,,KYRETSYS,KRSINS,RECEIVE,N,07/11/2017,07/11/2017,0,1,76000,0,100.4874,76370.42,0,0,0,1,,0,0,0,ZCONV,BNYM2,FED FUND,,144A EXCHANGE OFFER,,,,,,,,,MATURITY,,,DTC,,,TRANSFER,,,,,,ZCONV,,SC WORST,SC WORST,SC WORST,SC WORST,,NNNN,,,,,,,,,144A,1071,07/11/2017,07/11/2017,07/11/2017,07/11/2017,1,1,1,1,,07/11/2017,07/11/2017,07/11/2017,07/11/2017,76370.42,76370.42,76370.42,76370.42,76370.42,76370.42,76370.42,76370.42,76370.42,76370.42,76370.42,76370.42,N,N,N,N,MATURITY,MATURITY,MATURITY,MATURITY,MATURITY,MATURITY,MATURITY\n",
      "is this good to upload?\n",
      "Yes\n",
      "Done\n"
     ]
    }
   ],
   "source": [
    "import csv\n",
    "import openpyxl\n",
    "import shutil, time, pandas as pd\n",
    "wb = openpyxl.Workbook()\n",
    "ws = wb.active\n",
    "\n",
    "fstring = ('T:\\Operations\\Personal\\Carter E\\Python Docs\\CATRDveriallresPB - Copy.csv')\n",
    "strings = ('CATRDveriallresPB - Copy.csv')\n",
    "\n",
    "f = open(fstring)\n",
    "\n",
    "reader = csv.reader(f, delimiter=':')\n",
    "for row in reader:\n",
    "    ws.append(row)\n",
    "f.close()\n",
    "\n",
    "sheet = wb.active\n",
    "sheet.title = 'Sheet1'\n",
    "\n",
    "sheet = wb.get_sheet_by_name('Sheet1')\n",
    "print(sheet.cell(row=1, column=1).value)\n",
    "\n",
    "wb.save('T:\\Operations\\Personal\\Carter E\\Python Docs\\styled.xlsx')\n",
    "\n",
    "print (\"is this good to upload?\")\n",
    "answer = input()\n",
    "if answer == 'Yes':\n",
    "    shutil.move(fstring , 'T:\\\\Operations\\\\Personal\\\\Carter E\\\\Python Docs\\\\staging_test\\\\catrd' + strings)\n",
    "    print('Done')\n",
    "else:\n",
    "    print(\"upload it some other way\")"
   ]
  },
  {
   "cell_type": "code",
   "execution_count": null,
   "metadata": {},
   "outputs": [],
   "source": [
    "import shutil, time, pandas as pd\n",
    "\n",
    "os.chdir('T:\\\\')\n",
    "source = (\"T:\\\\Operations\\\\Personal\\\\Alex Schulke\\\\TestStage\\\\\")\n",
    "destination = (\"T:\\\\Operations\\\\Personal\\\\Alex Schulke\\\\TestProd\\\\\")\n",
    "\n",
    "\n",
    "#shutil.move('T:\\Operations\\Personal\\Carter E\\Python Docs\\CATRD07132017_testrec.csv', 'T:\\\\Operations\\\\Personal\\\\Carter E\\\\Python Docs\\\\staging_test')\n",
    "\n",
    "shutil.move('T:\\Operations\\Personal\\Carter E\\Python Docs\\staging_test\\CATRDveriallresPB - Copy.csv', 'T:\\\\Operations\\\\Personal\\\\Carter E\\Python Docs\\\\')\n"
   ]
  },
  {
   "cell_type": "code",
   "execution_count": null,
   "metadata": {},
   "outputs": [],
   "source": [
    "import csv\n",
    "import openpyxl\n",
    "import shutil, time, pandas as pd\n",
    "import os\n",
    "from os import rename, listdir\n",
    "\n",
    "fstring = ('CATRDveriallresPB - Copy.csv')\n",
    "path = os.chdir('T:\\\\Operations\\\\Personal\\\\Carter E\\\\Python Docs\\\\')\n",
    "from os import rename\n",
    "for fstring in path:\n",
    "    os.rename(fstring, fstring)"
   ]
  },
  {
   "cell_type": "code",
   "execution_count": null,
   "metadata": {},
   "outputs": [],
   "source": [
    "os.getcwd()"
   ]
  }
 ],
 "metadata": {
  "kernelspec": {
   "display_name": "Python 3",
   "language": "python",
   "name": "python3"
  },
  "language_info": {
   "codemirror_mode": {
    "name": "ipython",
    "version": 3
   },
   "file_extension": ".py",
   "mimetype": "text/x-python",
   "name": "python",
   "nbconvert_exporter": "python",
   "pygments_lexer": "ipython3",
   "version": "3.6.1"
  }
 },
 "nbformat": 4,
 "nbformat_minor": 2
}
